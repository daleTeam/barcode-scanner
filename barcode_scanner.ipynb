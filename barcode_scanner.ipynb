{
 "cells": [
  {
   "cell_type": "code",
   "execution_count": 1,
   "id": "9d0e5f8b-54ff-4dda-b02f-581e02cf8daa",
   "metadata": {},
   "outputs": [
    {
     "name": "stdout",
     "output_type": "stream",
     "text": [
      "hello world\n"
     ]
    }
   ],
   "source": [
    "print(\"hello world\")"
   ]
  },
  {
   "cell_type": "code",
   "execution_count": 10,
   "id": "0ea57b0f-455b-4821-b894-93d29d29d094",
   "metadata": {},
   "outputs": [
    {
     "name": "stdin",
     "output_type": "stream",
     "text": [
      "Enter a string:  OO0438164011307305725000000000000000a000000000000007181EnPapcheqe3yebShT+22pQ==:**********:1:1:1:é¤è²»      :1:10:\n"
     ]
    },
    {
     "name": "stdout",
     "output_type": "stream",
     "text": [
      "You entered: OO0438164011307305725000000000000000a000000000000007181EnPapcheqe3yebShT+22pQ==:**********:1:1:1:é¤è²»      :1:10:\n"
     ]
    }
   ],
   "source": [
    "def print_input():\n",
    "  \"\"\"Takes a string input from the user and prints it.\"\"\"\n",
    "  user_input = input(\"Enter a string: \")\n",
    "  print(\"You entered:\", user_input)\n",
    "\n",
    "print_input()"
   ]
  },
  {
   "cell_type": "code",
   "execution_count": 6,
   "id": "ad0d34e1-f62a-4d15-953f-9938670f7e6f",
   "metadata": {},
   "outputs": [
    {
     "name": "stdout",
     "output_type": "stream",
     "text": [
      "token: BD18HF0068D0O5453329F016\n"
     ]
    }
   ],
   "source": [
    "import requests\n",
    "import json  # Or another suitable library for parsing\n",
    "\n",
    "def get_id_from_login():\n",
    "  url = \"http://114.35.173.246:170/login.cgi?na=admin&pa=admin\"\n",
    "  response = requests.get(url)\n",
    "\n",
    "  if response.status_code == 200:\n",
    "    # Assuming the response is JSON and the ID is in a field named 'id'\n",
    "    data = response.text\n",
    "    return data\n",
    "  else:\n",
    "    print(f\"Error: Login failed. Status code: {response.status_code}\")\n",
    "    return None\n",
    "\n",
    "# Example usage\n",
    "token = get_id_from_login()\n",
    "print(\"token:\", token)\n"
   ]
  },
  {
   "cell_type": "code",
   "execution_count": 8,
   "id": "93b5711b-6166-4501-99c8-5116fd4cb033",
   "metadata": {},
   "outputs": [
    {
     "name": "stdout",
     "output_type": "stream",
     "text": [
      "BD18HF0068D0O5453329F016\n"
     ]
    },
    {
     "name": "stdin",
     "output_type": "stream",
     "text": [
      "Enter a string:  1234567890ABC\n"
     ]
    },
    {
     "name": "stdout",
     "output_type": "stream",
     "text": [
      "Request failed with status code: 404\n"
     ]
    }
   ],
   "source": [
    "import requests\n",
    "\n",
    "def send_post_request(data):\n",
    "  url = \"http://114.35.173.246:170/protect/PosWrite.htm\"\n",
    "  headers = {\n",
    "    'Cookie': f'auth={token}'\n",
    "  }\n",
    "  response = requests.post(url, data=data, headers=headers)\n",
    "  return response\n",
    "\n",
    "# Example usage:\n",
    "print(token)\n",
    "user_input = input(\"Enter a string: \")\n",
    "data = f\"input=01 {user_input}\"\n",
    "\n",
    "response = send_post_request(data)\n",
    "\n",
    "if response.status_code == 200:\n",
    "  print(\"Request successful\")\n",
    "  print(response.text)  # Print the response body\n",
    "else:\n",
    "  print(\"Request failed with status code:\", response.status_code)\n"
   ]
  },
  {
   "cell_type": "code",
   "execution_count": null,
   "id": "37d87567-2dde-44b9-9cb5-d0007928da96",
   "metadata": {},
   "outputs": [],
   "source": []
  }
 ],
 "metadata": {
  "kernelspec": {
   "display_name": "Python 3 (ipykernel)",
   "language": "python",
   "name": "python3"
  },
  "language_info": {
   "codemirror_mode": {
    "name": "ipython",
    "version": 3
   },
   "file_extension": ".py",
   "mimetype": "text/x-python",
   "name": "python",
   "nbconvert_exporter": "python",
   "pygments_lexer": "ipython3",
   "version": "3.12.4"
  }
 },
 "nbformat": 4,
 "nbformat_minor": 5
}
